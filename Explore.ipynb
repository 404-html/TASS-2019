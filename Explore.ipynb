{
 "cells": [
  {
   "cell_type": "markdown",
   "metadata": {},
   "source": [
    "## Load needed things"
   ]
  },
  {
   "cell_type": "markdown",
   "metadata": {
    "heading_collapsed": true
   },
   "source": [
    "### Import packages"
   ]
  },
  {
   "cell_type": "code",
   "execution_count": 1,
   "metadata": {
    "hidden": true
   },
   "outputs": [],
   "source": [
    "import numpy as np\n",
    "import nltk\n",
    "import pandas as pd\n",
    "import xml.etree.ElementTree as ET\n",
    "from collections import namedtuple\n",
    "from os import listdir\n",
    "from os.path import isfile, join\n",
    "import re\n",
    "import string\n",
    "from typing import Callable, List\n",
    "import unidecode\n",
    "from spellchecker import SpellChecker\n",
    "import urllib.request\n",
    "import json\n",
    "from tqdm import tqdm\n",
    "import spacy\n",
    "import ftfy\n",
    "\n",
    "nlp = spacy.load('es')\n",
    "tqdm.pandas()"
   ]
  },
  {
   "cell_type": "markdown",
   "metadata": {
    "heading_collapsed": true
   },
   "source": [
    "### Define named tuple"
   ]
  },
  {
   "cell_type": "code",
   "execution_count": 2,
   "metadata": {
    "hidden": true
   },
   "outputs": [],
   "source": [
    "tweet = namedtuple('Tweet', ['tweetid', 'content', 'polarity'])"
   ]
  },
  {
   "cell_type": "markdown",
   "metadata": {
    "heading_collapsed": true
   },
   "source": [
    "### Define stopwords"
   ]
  },
  {
   "cell_type": "code",
   "execution_count": 3,
   "metadata": {
    "hidden": true
   },
   "outputs": [],
   "source": [
    "stopWords = set(nltk.corpus.stopwords.words('spanish'))"
   ]
  },
  {
   "cell_type": "markdown",
   "metadata": {},
   "source": [
    "## Preprocessing"
   ]
  },
  {
   "cell_type": "markdown",
   "metadata": {
    "heading_collapsed": true
   },
   "source": [
    "### Read data"
   ]
  },
  {
   "cell_type": "code",
   "execution_count": 4,
   "metadata": {
    "hidden": true,
    "scrolled": true
   },
   "outputs": [],
   "source": [
    "def read_data(file: str) -> pd.DataFrame:\n",
    "    \"\"\"Read data from given file and return it as a dataframe.\"\"\"\n",
    "    tweets: List = []\n",
    "    with open(file, 'r') as f:\n",
    "        tree = ET.parse(file)\n",
    "        root = tree.getroot()\n",
    "        for child in root:\n",
    "            tweets.append(tweet(child[0].text, child[2].text, child[5][0][0].text))\n",
    "    return pd.DataFrame(tweets)\n",
    "\n",
    "def read_folder(folder: str) -> pd.DataFrame:\n",
    "    \"\"\"\n",
    "    Read data from given folder, combines the training and dev set\n",
    "    and return them combined as a dataframe.\n",
    "    \"\"\"\n",
    "    dataframes = []\n",
    "    files = [f for f in listdir(folder) if isfile(join(folder, f))]\n",
    "    for file in files:\n",
    "        if 'xml' in file:\n",
    "            dataframes.append(read_data(folder + file))\n",
    "    return pd.concat(dataframes)"
   ]
  },
  {
   "cell_type": "markdown",
   "metadata": {},
   "source": [
    "### String manipulation\n",
    "\n",
    "Don't need to care for emoticons, because there are less than 10."
   ]
  },
  {
   "cell_type": "code",
   "execution_count": 5,
   "metadata": {},
   "outputs": [],
   "source": [
    "def remove_mention(tweet: str) -> str:\n",
    "    return re.sub(r'@[A-Za-z0-9]+', '', tweet) \n",
    "\n",
    "def lower_case(tweet: str) -> str:\n",
    "    \"\"\"Turn a tweet to lower case.\"\"\"\n",
    "    return tweet.lower()\n",
    "\n",
    "def remove_question_mark(tweet: str) -> str:\n",
    "    \"\"\"Remove spanish question mark from a tweet.\"\"\"\n",
    "    return tweet.replace('¿', '')\n",
    "\n",
    "def remove_punctuation(tweet: str) -> str:\n",
    "    \"\"\"Remove punctuation from a tweet.\"\"\"\n",
    "    return tweet.translate(str.maketrans('', '', string.punctuation))\n",
    "\n",
    "def remove_whitespace(tweet: str) -> str:\n",
    "    return tweet.strip()\n",
    "\n",
    "def check_int(s):\n",
    "    if s[0] in ('-', '+'):\n",
    "        return s[1:].isdigit()\n",
    "    return s.isdigit()\n",
    "\n",
    "def remove_numbers(tweet: str) -> str:\n",
    "    \"\"\"Remove numbers from tweet.\"\"\"\n",
    "    tokenized = nltk.word_tokenize(tweet)\n",
    "    return ' '.join([word for word in tokenized if not check_int(word)])\n",
    "\n",
    "def fix_encoding(tweet: str) -> str:\n",
    "    return ftfy.fix_encoding(tweet)\n",
    "\n",
    "def fix_repeated_letters(tweet: str) -> str:\n",
    "    \"\"\"Replace repeated characters (3 repetitions or more) with only two characters.\"\"\"\n",
    "    return re.sub(r'(.)\\1+', r'\\1\\1', tweet)\n",
    "\n",
    "def clean_tweet(tweet: str) -> str:\n",
    "    \"\"\"Run a tweet through cleaning pipeline.\"\"\"\n",
    "    # List of function\n",
    "    functions: List[Callable] = [\n",
    "                 remove_mention,\n",
    "                 lower_case,\n",
    "                 remove_question_mark,\n",
    "                 remove_punctuation,\n",
    "                 remove_whitespace,\n",
    "                 remove_numbers,\n",
    "                 fix_encoding,\n",
    "                 fix_repeated_letters\n",
    "                 ]\n",
    "    for f in functions:\n",
    "        tweet = f(tweet)\n",
    "        \n",
    "    return tweet"
   ]
  },
  {
   "cell_type": "markdown",
   "metadata": {},
   "source": [
    "### Spelling\n",
    "Preprocessing that should be done after spell correction."
   ]
  },
  {
   "cell_type": "code",
   "execution_count": 6,
   "metadata": {},
   "outputs": [],
   "source": [
    "spell = SpellChecker(language='es')\n",
    "\n",
    "def is_ascii(s):\n",
    "    return all(ord(c) < 128 for c in s)\n",
    "\n",
    "def fix_spelling(tweet: str) -> str:\n",
    "    \"\"\"Fix spelling error in tweets.\"\"\"\n",
    "    tokenized = nltk.word_tokenize(tweet)\n",
    "    misspelled = spell.unknown(tokenized)\n",
    "    for i in range(len(tokenized)):\n",
    "        if tokenized[i] in misspelled:\n",
    "            if is_ascii(tokenized[i]):\n",
    "                contents = urllib.request.urlopen(f\"http://api.urbandictionary.com/v0/define?term={tokenized[i]}\").read()\n",
    "                contents = json.loads(contents)['list']\n",
    "            \n",
    "                # Check if the word is spelling error or is in urban dictionary\n",
    "                if contents and contents[0]['word'].lower().strip() == tokenized[i]:\n",
    "                    continue\n",
    "            tokenized[i] = spell.correction(tokenized[i])\n",
    "    return ' '.join(tokenized)\n",
    "\n",
    "def remove_stopwords(tweet: str) -> str:\n",
    "    \"\"\"Remove stopwords from tweet.\"\"\"\n",
    "    tokenized = nltk.word_tokenize(tweet)\n",
    "    return ' '.join([word for word in tokenized if word not in stopWords])\n",
    "\n",
    "def stem_tweet(tweet: str) -> str:\n",
    "    tweet = nlp(tweet)\n",
    "    return ' '.join([token.lemma_ for token in tweet])\n",
    "\n",
    "\n",
    "def clean_tweet2(tweet: str) -> str:\n",
    "    \"\"\"Run a tweet through cleaning pipeline.\"\"\"\n",
    "    # List of function\n",
    "    functions: List[Callable] = [\n",
    "                 remove_stopwords,\n",
    "                 stem_tweet\n",
    "                 ]\n",
    "    for f in functions:\n",
    "        tweet = f(tweet)\n",
    "        \n",
    "    return tweet"
   ]
  },
  {
   "cell_type": "markdown",
   "metadata": {},
   "source": [
    "### Clean and save"
   ]
  },
  {
   "cell_type": "code",
   "execution_count": 7,
   "metadata": {
    "scrolled": true
   },
   "outputs": [
    {
     "name": "stderr",
     "output_type": "stream",
     "text": [
      "100%|██████████| 1167/1167 [00:00<00:00, 2593.14it/s]\n",
      "100%|██████████| 1167/1167 [19:43<00:00,  1.01s/it] \n",
      "100%|██████████| 1167/1167 [00:16<00:00, 71.88it/s]\n"
     ]
    }
   ],
   "source": [
    "df = read_folder(\"data/cr/\")\n",
    "df['content'] = df['content'].progress_apply(clean_tweet)\n",
    "df['content'] = df['content'].progress_apply(fix_spelling)\n",
    "df['content'] = df['content'].progress_apply(clean_tweet2)\n",
    "df.to_csv(\"data/cr/cleaned.csv\")"
   ]
  },
  {
   "cell_type": "code",
   "execution_count": 8,
   "metadata": {},
   "outputs": [
    {
     "name": "stdout",
     "output_type": "stream",
     "text": [
      "<class 'pandas.core.frame.DataFrame'>\n",
      "Int64Index: 1167 entries, 0 to 389\n",
      "Data columns (total 3 columns):\n",
      "tweetid     1167 non-null object\n",
      "content     1167 non-null object\n",
      "polarity    1167 non-null object\n",
      "dtypes: object(3)\n",
      "memory usage: 36.5+ KB\n"
     ]
    }
   ],
   "source": [
    "df.info()"
   ]
  },
  {
   "cell_type": "markdown",
   "metadata": {},
   "source": [
    "## Classifier"
   ]
  },
  {
   "cell_type": "markdown",
   "metadata": {},
   "source": [
    "### Turn tweets into features"
   ]
  },
  {
   "cell_type": "code",
   "execution_count": 12,
   "metadata": {},
   "outputs": [
    {
     "name": "stdout",
     "output_type": "stream",
     "text": [
      "({'contains(totalmente)': True, 'contains(puntual)': True, 'contains(hola)': False, 'contains(sandrita)': False, 'contains(habia)': False, 'contains(desear)': False, 'contains(feliz)': False, 'contains(dia)': False, 'contains(madre)': False, 'contains(tardar)': False, 'contains(seguro)': False, 'contains(saber)': False, 'contains(tú)': False, 'contains(si)': False, 'contains(juno)': False, 'contains(tomar)': False, 'contains(mas)': False, 'contains(foto)': False, 'contains(andar)': False, 'contains(hacer)': False, 'contains(mejor)': False, 'contains(quedar)': False, 'contains(calladita)': False, 'contains(jaja)': False, 'contains(asir)': False, 'contains(quemar)': False, 'contains(mismo)': False, 'contains(insinuar)': False, 'contains(uno)': False, 'contains(metida)': False, 'contains(pereza)': False, 'contains(querer)': False, 'contains(chocar)': False, 'contains(banano)': False, 'contains(bueno)': False, 'contains(mayor)': False, 'contains(cuánto)': False, 'contains(campar)': False, 'contains(sos)': False, 'contains(cartaguito)': False, 'contains(cada)': False, 'contains(aspecto)': False, 'contains(vida)': False, 'contains(vestir)': False, 'contains(pasar)': False, 'contains(día)': False, 'contains(buscar)': False, 'contains(baby)': False, 'contains(lips)': False, 'contains(acabar)': False, 'contains(encontrar)': False, 'contains(mesita)': False, 'contains(noche)': False, 'contains(fijar)': False, 'contains(poner)': False, 'contains(ahí)': False, 'contains(dormir)': False, 'contains(halcon)': False, 'contains(terminal)': False, 'contains(ver)': False, 'contains(mortal)': False, 'contains(mary)': False, 'contains(jo)': False, 'contains(bang)': False, 'contains(volar)': False, 'contains(todavía)': False, 'contains(duluth)': False, 'contains(salcedo)': False, 'contains(ahorita)': False, 'contains(ir)': False, 'contains(cambiar)': False, 'contains(ligar)': False, 'contains(brackett)': False, 'contains(alfajor)': False, 'contains(argentino)': False, 'contains(bulto)': False, 'contains(hambre)': False, 'contains(poder)': False, 'contains(esperar)': False, 'contains(amor)': False, 'contains(paciente)': False, 'contains(bondadoso)': False, 'contains(envidioso)': False, 'contains(orgulloso)': False, 'contains(egoísta)': False, 'contains(guardar)': False, 'contains(rencor)': False, 'contains(corintio)': False, 'contains(amanecer)': False, 'contains(respirar)': False, 'contains(o2)': False, 'contains(puro)': False, 'contains(regalar)': False, 'contains(am)': False, 'contains(frente)': False, 'contains(mar)': False, 'contains(preparar)': False, 'contains(mente)': False, 'contains(meditación)': False, 'contains(chamaco)': False, 'contains(piercing)': False, 'contains(mota)': False, 'contains(ombligo)': False, 'contains(peor)': False, 'contains(caro)': False, 'contains(fumar)': False, 'contains(jamón)': False, 'contains(hahaha)': False, 'contains(sq)': False, 'contains(rato)': False, 'contains(cambiarlo)': False, 'contains(haha)': False, 'contains(creer)': False, 'contains(aguantar)': False, 'contains(mio)': False, 'contains(bastantito)': False, 'contains(casi)': False, 'contains(año)': False, 'contains(compañero)': False, 'contains(trabajar)': False, 'contains(sentir)': False, 'contains(tentar)': False, 'contains(saludarla)': False, 'contains(trompa)': False, 'contains(carro)': False, 'contains(150kmph)': False, 'contains(intencionalmente)': False, 'contains(ah)': False, 'contains(gracia)': False, 'contains(ahora)': False, 'contains(pricesmart)': False, 'contains(vender)': False, 'contains(papar)': False, 'contains(descansar)': False, 'contains(faltar)': False, 'contains(mil)': False, 'contains(colorir)': False, 'contains(único)': False, 'contains(manera)': False, 'contains(todo)': False, 'contains(entrar)': False, 'contains(metallica)': False, 'contains(literal)': False, 'contains(pichaseandome)': False, 'contains(semana)': False, 'contains(hora)': False, 'contains(alvarado)': False, 'contains(velar)': False, 'contains(salud)': False, 'contains(nunca)': False, 'contains(existir)': False, 'contains(según)': False, 'contains(evidenciar)': False, 'contains(aparecer)': False, 'contains(vez)': False, 'contains(casar)': False, 'contains(válido)': False, 'contains(alegrar)': False, 'contains(muchísimo)': False, 'contains(gustar)': False, 'contains(igualmente)': False, 'contains(placer)': False, 'contains(saludarte)': False, 'contains(próximo)': False, 'contains(venir)': False, 'contains(sj)': False, 'contains(avisar)': False, 'contains(tiempo)': False, 'contains(café)': False, 'contains(hoy)': False, 'contains(preguntar)': False, 'contains(existencial)': False, 'contains(freír)': False, 'contains(volver)': False, 'contains(dar)': False, 'contains(hipar)': False, 'contains(después)': False, 'contains(tanto)': False, 'contains(aquí)': False, 'contains(chepe)': False, 'contains(dónde)': False, 'contains(conseguir)': False, 'contains(sartén)': False, 'contains(herrar)': False, 'contains(universal)': False, 'contains(marcar)': False, 'contains(gibson)': False, 'contains(q)': False, 'contains(siquiera)': False, 'contains(internet)': False, 'contains(decir)': False, 'contains(contrario)': False, 'contains(ganar)': False, 'contains(volarlo)': False, 'contains(acordar)': False, 'contains(pelar)': False, 'contains(desmadrar)': False, 'contains(dejar)': False, 'contains(pobre)': False, 'contains(bastian)': False, 'contains(scheweisteinger)': False, 'contains(united)': False, 'contains(crack)': False, 'contains(genio)': False, 'contains(mou)': False, 'contains(esaa)': False, 'contains(suerte)': False, 'contains(disfrutar)': False, 'contains(grande)': False, 'contains(saludo)': False, 'contains(costa)': False, 'contains(rico)': False, 'contains(mae)': False, 'contains(mañana)': False, 'contains(llegar)': False, 'contains(cuidar)': False, 'contains(quedo)': False, 'contains(liena)': False, 'contains(familia)': False, 'contains(playa)': False, 'contains(irresponsable)': False, 'contains(quedarme)': False, 'contains(extra)': False, 'contains(clase)': False, 'contains(martes)': False, 'contains(matt)': False, 'contains(cómodo)': False, 'contains(ser)': False, 'contains(partir)': False, 'contains(tourjunto)': False, 'contains(bicis)': False, 'contains(camisa)': False, 'contains(amarillo)': False, 'contains(mucho)': False, 'contains(horario)': False, 'contains(semestre)': False, 'contains(tan)': False, 'contains(feo)': False, 'contains(despedir)': False, 'contains(poco)': False, 'contains(social)': False, 'contains(estrenar)': False, 'contains(suicidar)': False, 'contains(squad)': False, 'contains(sabio)': False, 'contains(bus)': False, 'contains(romper)': False, 'contains(fajar)': False, 'contains(bolso)': False, 'contains(maes)': False, 'contains(mierda)': False, 'contains(sonreír)': False, 'contains(aprovechar)': False, 'contains(amargar)': False, 'contains(menos)': False, 'contains(mal)': False, 'contains(jugar)': False, 'contains(jugador)': False, 'contains(viejo)': False, 'contains(deber)': False, 'contains(tener)': False, 'contains(prioridad)': False, 'contains(parce)': False, 'contains(igual)': False, 'contains(dios)': False, 'contains(cerrar)': False, 'contains(broche)': False, 'contains(orar)': False, 'contains(siempre)': False, 'contains(hijo)': False, 'contains(thnksgod)': False, 'contains(paular)': False, 'contains(primero)': False, 'contains(generación)': False, 'contains(resolución)': False, 'contains(problema)': False, 'contains(bachi)': False, 'contains(matar)': False, 'contains(excelente)': False, 'contains(molestar)': False, 'contains(conocer)': False, 'contains(nadie)': False, 'contains(uber)': False, 'contains(asi)': False, 'contains(bono)': False, 'contains(acá)': False, 'contains(ugh)': False, 'contains(canelo)': False, 'contains(caer)': False, 'contains(pesar)': False, 'contains(quitar)': False, 'contains(kris)': False, 'contains(solo)': False, 'contains(oír)': False, 'contains(revivir)': False, 'contains(escobar)': False, 'contains(pa)': False, 'contains(interesante)': False, 'contains(seriar)': False, 'contains(eh)': False, 'contains(jajajaja)': False, 'contains(senador)': False, 'contains(dirigir)': False, 'contains(español)': False, 'contains(audiencia)': False, 'contains(republicano)': False, 'contains(apoyar)': False, 'contains(padre)': False, 'contains(costarricense)': False, 'contains(penar)': False, 'contains(perfecto)': False, 'contains(expectativa)': False, 'contains(profes)': False, 'contains(bichoraro)': False, 'contains(wtf)': False, 'contains(biblia)': False, 'contains(firmar)': False, 'contains(diablo)': False, 'contains(okno)': False, 'contains(v)': False, 'contains(sólo)': False, 'contains(mamá)': False, 'contains(lograr)': False, 'contains(cenar)': False, 'contains(paz)': False, 'contains(rodríguez)': False, 'contains(vivir)': False, 'contains(metro)': False, 'contains(basílico)': False, 'contains(salir)': False, 'contains(polvora)': False, 'contains(do)': False, 'contains(bonito)': False, 'contains(nadaquehacer)': False, 'contains(demasiar)': False, 'contains(hermoso)': False, 'contains(looking)': False, 'contains(queers)': False, 'contains(as)': False, 'contains(folk)': False, 'contains(contar)': False, 'contains(grupo)': False, 'contains(mejorar)': False, 'contains(amigo)': False, 'contains(gay)': False, 'contains(alguien)': False, 'contains(adoptar)': False, 'contains(recordar)': False, 'contains(escribir)': False, 'contains(hermano)': False, 'contains(motivar)': False, 'contains(útil)': False, 'contains(iniciar)': False, 'contains(concachampions)': False, 'contains(realmente)': False, 'contains(importar)': False, 'contains(seguir)': False, 'contains(mes)': False, 'contains(darlo)': False, 'contains(aunque)': False, 'contains(caminar)': False, 'contains(comer)': False, 'contains(sam)': False, 'contains(bien)': False, 'contains(terminar)': False, 'contains(súper)': False, 'contains(adictivo)': False, 'contains(encantar)': False, 'contains(lcshinyforflowers)': False, 'contains(triste)': False, 'contains(raps)': False, 'contains(fiesta)': False, 'contains(bandera)': False, 'contains(cerveza)': False, 'contains(último)': False, 'contains(experiencia)': False, 'contains(parranda)': False, 'contains(estupida)': False, 'contains(abis)': False, 'contains(par)': False, 'contains(sacar)': False, 'contains(desgraciar)': False, 'contains(trailer)': False, 'contains(resident)': False, 'contains(evil)': False, 'contains(fuck)': False, 'contains(md)': False, 'contains(vamoos)': False, 'contains(aguar)': False, 'contains(helar)': False, 'contains(regularmente)': False, 'contains(mantener)': False, 'contains(fresco)': False, 'contains(poquito)': False, 'contains(azúcar)': False, 'contains(durar)': False, 'contains(hacerte)': False, 'contains(época)': False, 'contains(decirle)': False, 'contains(ninguno)': False, 'contains(trofeo)': False, 'contains(conmemorativo)': False, 'contains(equipo)': False, 'contains(jornada)': False, 'contains(hablar)': False, 'contains(cuanto)': False, 'contains(extrañar)': False, 'contains(cha)': False, 'contains(emergencia)': False, 'contains(gente)': False, 'contains(necesitar)': False, 'contains(hospital)': False, 'contains(citar)': False, 'contains(ahh)': False, 'contains(parir)': False, 'contains(nacional)': False, 'contains(jiji)': False, 'contains(entonces)': False, 'contains(indigente)': False, 'contains(mental)': False, 'contains(justificar)': False, 'contains(lanzar)': False, 'contains(muñeca)': False, 'contains(callar)': False, 'contains(grandísima)': False, 'contains(puto)': False, 'contains(daniela)': False, 'contains(griselda)': False, 'contains(físico)': False, 'contains(atrás)': False, 'contains(personar)': False, 'contains(atractivo)': False, 'contains(incluir)': False, 'contains(propuesta)': False, 'contains(cerebro)': False, 'contains(favorito)': False, 'contains(parecio)': False, 'contains(sigueme)': False, 'contains(pls)': False, 'contains(bye)': False, 'contains(preguntarle)': False, 'contains(vina)': False, 'contains(esque)': False, 'contains(perdido)': False, 'contains(participar)': False, 'contains(mujer)': False, 'contains(propio)': False, 'contains(parejo)': False, 'contains(aburrir)': False, 'contains(motociclista)': False, 'contains(especialmente)': False, 'contains(violento)': False, 'contains(pegar)': False, 'contains(patear)': False, 'contains(gritar)': False, 'contains(talamanca)': False, 'contains(caquita)': False, 'contains(girar)': False, 'contains(malo)': False, 'contains(finde)': False, 'contains(examen)': False, 'contains(analítico)': False, 'contains(levantar)': False, 'contains(ayudar)': False, 'contains(milímetro)': False, 'contains(spoiler)': False, 'contains(nuevo)': False, 'contains(caballo)': False, 'contains(pudrir)': False, 'contains(video)': False, 'contains(subir)': False, 'contains(quizá)': False, 'contains(profesional)': False, 'contains(muchopero)': False, 'contains(remunerar)': False, 'contains(principalmente)': False, 'contains(femenino)': False, 'contains(soñar)': False, 'contains(paso)': False, 'contains(país)': False, 'contains(perfumar)': False, 'contains(usar)': False, 'contains(victoria)': False, 'contains(secret)': False, 'contains(x)': False, 'contains(pink)': False, 'contains(aficionar)': False, 'contains(fútbol)': False, 'contains(fanático)': False, 'contains(envenenar)': False, 'contains(hijueputa)': False, 'contains(necio)': False, 'contains(yay)': False, 'contains(joven)': False, 'contains(ay)': False, 'contains(nombre)': False, 'contains(730)': False, 'contains(bebé)': False, 'contains(sábado)': False, 'contains(u)': False, 'contains(decepcionarte)': False, 'contains(delicioso)': False, 'contains(santo)': False, 'contains(rafael)': False, 'contains(ezcazu)': False, 'contains(hahahaha)': False, 'contains(ojo)': False, 'contains(despertar)': False, 'contains(tratar)': False, 'contains(ste)': False, 'contains(aun)': False, 'contains(huge)': False, 'contains(fan)': False, 'contains(empezar)': False, 'contains(crecer)': False, 'contains(temporada)': False, 'contains(sincero)': False, 'contains(rostro)': False, 'contains(inocente)': False, 'contains(amigar)': False, 'contains(podés)': False, 'contains(abrir)': False, 'contains(perder)': False, 'contains(llave)': False, 'contains(roommate)': False, 'contains(contestar)': False, 'contains(libro)': False, 'contains(amp)': False, 'contains(convencer)': False, 'contains(lucas)': False, 'contains(cr)': False, 'contains(agradecer)': False, 'contains(personal)': False, 'contains(starbucks)': False, 'contains(sabana)': False, 'contains(cartero)': False, 'contains(olvidar)': False, 'contains(buenísimo)': False, 'contains(yoga)': False, 'contains(danzar)': False, 'contains(aeróbic)': False, 'contains(mandarle)': False, 'contains(conversación)': False, 'contains(varar)': False, 'contains(fluir)': False, 'contains(sino)': False, 'contains(cagar)': False, 'contains(post)': False, 'contains(compartir)': False, 'contains(tranquilo)': False, 'contains(anunciar)': False, 'contains(quién)': False, 'contains(gnr)': False, 'contains(malayo)': False, 'contains(responder)': False, 'contains(cansar)': False, 'contains(escucharte)': False, 'contains(beso)': False, 'contains(chavo)': False, 'contains(c)': False, 'contains(realidad)': False, 'contains(chiquillo)': False, 'contains(tirar)': False, 'contains(piedra)': False, 'contains(techar)': False, 'contains(vecino)': False, 'contains(cristal)': False, 'contains(pili)': False, 'contains(llenar)': False, 'contains(comenzar)': False, 'contains(toser)': False, 'contains(pulmón)': False, 'contains(general)': False, 'contains(jajaja)': False, 'contains(susto)': False, 'contains(luego)': False, 'contains(meterlo)': False, 'contains(taller)': False, 'contains(icon)': False, 'contains(lindo)': False, 'contains(diana)': False, 'contains(cómo)': False, 'contains(acomodar)': False, 'contains(costar)': False, 'contains(montón)': False, 'contains(acompañarnos)': False, 'contains(edad)': False, 'contains(manir)': False, 'contains(vosotros)': False, 'contains(atte)': False, 'contains(ale)': False, 'contains(oops)': False, 'contains(cierto)': False, 'contains(noto)': False, 'contains(videos)': False, 'contains(youtubers)': False, 'contains(coser)': False, 'contains(simplificar)': False, 'contains(común)': False, 'contains(sonrisa)': False, 'contains(eliminar)': False, 'contains(interesar)': False, 'contains(simple)': False, 'contains(unam)': False, 'contains(prometer)': False, 'contains(siguiente)': False, 'contains(titular)': False, 'contains(rajar)': False, 'contains(tranquilidad)': False, 'contains(dias)': False, 'contains(libre)': False, 'contains(ct)': False, 'contains(queria)': False, 'contains(preguntarte)': False, 'contains(cafe)': False, 'contains(chiapas)': False, 'contains(shade)': False, 'contains(grown)': False, 'contains(degustación)': False, 'contains(pronto)': False, 'contains(jajajajajajaja)': False, 'contains(consumir)': False, 'contains(producir)': False, 'contains(jason)': False, 'contains(viajar)': False, 'contains(gato)': False, 'contains(botar)': False, 'contains(entrenar)': False, 'contains(entrenamiento)': False, 'contains(artesanal)': False, 'contains(ideo)': False, 'contains(dinámico)': False, 'contains(distinto)': False, 'contains(quiz)': False, 'contains(edición)': False, 'contains(ensayar)': False, 'contains(vacación)': False, 'contains(comic)': False, 'contains(humor)': False, 'contains(negro)': False, 'contains(youtube)': False, 'contains(diferente)': False, 'contains(cool)': False, 'contains(llamarme)': False, 'contains(pleno)': False, 'contains(luz)': False, 'contains(barrio)': False, 'contains(odioso)': False, 'contains(falto)': False, 'contains(ocupar)': False, 'contains(pascoe)': False, 'contains(beliebers)': False, 'contains(comprar)': False, 'contains(sobrar)': False, 'contains(venta)': False, 'contains(normal)': False, 'contains(aca)': False, 'contains(alguno)': False, 'contains(chico)': False, 'contains(emplear)': False, 'contains(navideño)': False, 'contains(tender)': False, 'contains(decímetro)': False, 'contains(percatar)': False, 'contains(username)': False, 'contains(imbécil)': False, 'contains(perdón)': False, 'contains(famoso)': False, 'contains(solicitar)': False, 'contains(puerto)': False, 'contains(opinión)': False, 'contains(fin)': False, 'contains(torta)': False, 'contains(chileno)': False, 'contains(ayer)': False, 'contains(fb)': False, 'contains(portar)': False, 'contains(tl)': False, 'contains(tw)': False, 'contains(relación)': False, 'contains(temer)': False, 'contains(himno)': False, 'contains(bienvenido)': False, 'contains(juego)': False, 'contains(posición)': False, 'contains(cuartar)': False, 'contains(indeciso)': False, 'contains(horrible)': False, 'contains(devastador)': False, 'contains(9)': False, 'contains(a.m.)': False, 'contains(mocar)': False, 'contains(llorar)': False, 'contains(pelicula)': False, 'contains(cameron)': False, 'contains(díaz)': False, 'contains(morir)': False, 'contains(tocar)': False, 'contains(junto)': False, 'contains(final)': False, 'contains(leu)': False, 'contains(avanzar)': False, 'contains(visslaisaworldjuniors)': False, 'contains(oficina)': False, 'contains(culpable)': False, 'contains(coral)': False, 'contains(pantufla)': False, 'contains(misión)': False, 'contains(cumplir)': False, 'contains(fastidiar)': False, 'contains(mario)': False, 'contains(bromar)': False, 'contains(verdad)': False, 'contains(tabla)': False, 'contains(revelador)': False, 'contains(cargar)': False, 'contains(odiar)': False, 'contains(escuchar)': False, 'contains(músico)': False, 'contains(abrazar)': False, 'contains(vera)': False, 'contains(quito)': False, 'contains(pd)': False, 'contains(adelantar)': False, 'contains(maravilloso)': False, 'contains(trabajo)': False, 'contains(tributar)': False, 'contains(soda)': False, 'contains(stereo)': False, 'contains(jeje)': False, 'contains(gimnasio)': False, 'contains(cobrar)': False, 'contains(330mil)': False, 'contains(matricular)': False, 'contains(matemático)': False, 'contains(curiosidad)': False, 'contains(intentar)': False, 'contains(banco)': False, 'contains(declinar)': False, 'contains(reportar)': False, 'contains(verde)': False, 'contains(score)': False, 'contains(consejo)': False, 'contains(especial)': False, 'contains(pídele)': False, 'contains(dinero)': False, 'contains(prestar)': False, 'contains(pagar)': False, 'contains(basura)': False, 'contains(mundo)': False, 'contains(justar)': False, 'contains(andrea)': False, 'contains(verme)': False, 'contains(acostar)': False, 'contains(calor)': False, 'contains(únicamente)': False, 'contains(pedir)': False, 'contains(tel)': False, 'contains(punto)': False, 'contains(aprender)': False, 'contains(respetar)': False, 'contains(mandar)': False, 'contains(lavarme)': False, 'contains(culo)': False, 'contains(reír)': False, 'contains(lagarto)': False, 'contains(hazme)': False, 'contains(gran)': False, 'contains(confianza)': False, 'contains(salmo)': False, 'contains(fumigar)': False, 'contains(listar)': False, 'contains(puente)': False, 'contains(peatonal)': False, 'contains(casaya)': False, 'contains(jugarme)': False, 'contains(auto)': False, 'contains(cajero)': False, 'contains(barca)': False, 'contains(qe)': False, 'contains(influir)': False, 'contains(madrid)': False, 'contains(cmo)': False, 'contains(tuani)': False, 'contains(ey)': False, 'contains(decirte)': False, 'contains(generalmente)': False, 'contains(sol)': False, 'contains(temprano)': False, 'contains(nublar)': False, 'contains(3)': False, 'contains(p.m)': False, 'contains(.)': False, 'contains(ansiedad)': False, 'contains(permitir)': False, 'contains(prudente)': False, 'contains(gab)': False, 'contains(lunes)': False, 'contains(estudiar)': False, 'contains(fisiología)': False, 'contains(animal)': False, 'contains(domingo)': False, 'contains(tenis)': False, 'contains(zad)': False, 'contains(delicia)': False, 'contains(cercar)': False, 'contains(tupper)': False, 'contains(kilómetro)': False, 'contains(separar)': False, 'contains(pozo)': False, 'contains(qsflp)': False, 'contains(corazón)': False, 'contains(dictar)': False, 'contains(voz)': False, 'contains(cenizo)': False, 'contains(alegría)': False, 'contains(arder)': False, 'contains(lente)': False, 'contains(contactar)': False, 'contains(químico)': False, 'contains(inglés)': False, 'contains(celular)': False, 'contains(conciente)': False, 'contains(historia)': False, 'contains(latinoamericano)': False, 'contains(seguridad)': False, 'contains(maldito)': False, 'contains(concepto)': False, 'contains(machar)': False, 'contains(medio)': False, 'contains(cartago)': False, 'contains(apenar)': False, 'contains(capotar)': False, 'contains(gasolina)': False, 'contains(preso)': False, 'contains(rendir)': False, 'contains(positivo)': False, 'contains(responsabilidad)': False, 'contains(adquirir)': False, 'contains(electo)': False, 'contains(decidir)': False, 'contains(tipo)': False, 'contains(independientemente)': False, 'contains(resultar)': False, 'contains(claro)': False, 'contains(tigre)': False, 'contains(fase)': False, 'contains(clc)': False, 'contains(pues)': False, 'contains(lado)': False, 'contains(ñoño)': False, 'contains(dentro)': False, 'contains(trastorno)': False, 'contains(personalidad)': False, 'contains(fecho)': False, 'contains(cumpleaños)': False, 'contains(sorry)': False, 'contains(felicidad)': False, 'contains(bae)': False, 'contains(relajar)': False, 'contains(enojar)': False, 'contains(maquillar)': False, 'contains(super)': False, 'contains(chivo)': False, 'contains(halloween)': False, 'contains(gravar)': False, 'contains(snap)': False, 'contains(naymavp)': False, 'contains(madrugar)': False, 'contains(frontero)': False, 'contains(norte)': False, 'contains(botonar)': False, 'contains(ilusión)': False, 'contains(suponer)': False, 'contains(pendiente)': False, 'contains(verla)': False, 'contains(posible)': False, 'contains(listo)': False, 'contains(servir)': False, 'contains(championsxfox)': False, 'contains(saludar)': False, 'contains(sporting)': False, 'contains(bryan)': False, 'contains(ruiz)': False, 'contains(porfa)': False, 'contains(castrar)': False, 'contains(cafetero)': False, 'contains(traguito)': False, 'contains(lindar)': False, 'contains(darse)': False, 'contains(guapo)': False, 'contains(llamar)': False, 'contains(rogar)': False, 'contains(papá)': False, 'contains(nike)': False, 'contains(entregar)': False, 'contains(zen)': False, 'contains(desayunar)': False, 'contains(página)': False, 'contains(fuente)': False, 'contains(tenia)': False, 'contains(amante)': False, 'contains(bandido)': False, 'contains(esperándola)': False, 'contains(alison)': False, 'contains(imagínate)': False, 'contains(miedo)': False, 'contains(ajeno)': False, 'contains(monsejimenezp)': False, 'contains(dichoso)': False, 'contains(excusar)': False, 'contains(repugnante)': False, 'contains(hígado)': False, 'contains(hinchar)': False, 'contains(marchar)': False, 'contains(deprisa)': False, 'contains(ambulancia)': False, 'contains(soportar)': False, 'contains(nudo)': False, 'contains(garganta)': False, 'contains(recuerdo)': False, 'contains(esfuerzo)': False, 'contains(google)': False, 'contains(creerles)': False, 'contains(volumen)': False, 'contains(usuario)': False, 'contains(loz)': False, 'contains(xq)': False, 'contains(twitter)': False, 'contains(joder)': False, 'contains(darkus)': False, 'contains(pasatiempo)': False, 'contains(definir)': False, 'contains(uselalogica)': False, 'contains(concertar)': False, 'contains(uuhh)': False, 'contains(lástima)': False, 'contains(wea)': False, 'contains(chema)': False, 'contains(empresa)': False, 'contains(agarrar)': False, 'contains(audífono)': False, 'contains(despejar)': False, 'contains(ocho)': False, 'contains(11)': False, 'contains(sobrevivir)': False, 'contains(trimestral)': False, 'contains(llevar)': False, 'contains(lesionar)': False, 'contains(jamar)': False, 'contains(gordon)': False, 'contains(propuestasolicitud)': False, 'contains(servicio)': False, 'contains(entregarles)': False, 'contains(arroyar)': False, 'contains(mezclar)': False, 'contains(paralelo)': False, 'contains(demás)': False, 'contains(película)': False, 'contains(marvel)': False, 'contains(aniquilar)': False, 'contains(vídeo)': False, 'contains(pingüino)': False, 'contains(díganme)': False, 'contains(serie)': False, 'contains(prisonbreak)': False, 'contains(blackmirror)': False, 'contains(momento)': False, 'contains(show)': False, 'contains(huevo)': False, 'contains(hombre)': False, 'contains(arañar)': False, 'contains(gastar)': False, 'contains(comprándome)': False, 'contains(mudar)': False, 'contains(diciembre)': False, 'contains(verlos)': False, 'contains(aceptar)': False, 'contains(hundir)': False, 'contains(consumismo)': False, 'contains(macbook)': False, 'contains(pro)': False, 'contains(gopro)': False, 'contains(hero)': False, 'contains(karma)': False, 'contains(nintendo)': False, 'contains(switch)': False, 'contains(guerrero)': False, 'contains(comunicador)': False, 'contains(princesa)': False, 'contains(rápido)': False, 'contains(amar)': False, 'contains(pequeño)': False, 'contains(tío)': False, 'contains(armagedon)': False, 'contains(cintar)': False, 'contains(recomendar)': False, 'contains(levar)': False, 'contains(dudar)': False, 'contains(meet)': False, 'contains(publicar)': False, 'contains(tejer)': False, 'contains(cabrón)': False, 'contains(programar)': False, 'contains(agradable)': False, 'contains(real)': False, 'contains(doblar)': False, 'contains(anticuar)': False, 'contains(doler)': False, 'contains(querido)': False, 'contains(rabo)': False, 'contains(sospechoso)': False, 'contains(octubre)': False, 'contains(grinch)': False, 'contains(wifi)': False, 'contains(flojera)': False, 'contains(levantarme)': False, 'contains(encenderlo)': False, 'contains(cueropapel)': False, 'contains(tijera)': False, 'contains(preciar)': False, 'contains(german)': False, 'contains(tranqui)': False, 'contains(típico)': False, 'contains(palabra)': False, 'contains(picha)': False, 'contains(últimamente)': False, 'contains(twittear)': False, 'contains(tec)': False, 'contains(religioso)': False, 'contains(sótano)': False, 'contains(billón)': False, 'contains(increíble)': False, 'contains(orden)': False, 'contains(solamente)': False, 'contains(acostumbrarse)': False, 'contains(lugar)': False, 'contains(buscarlo)': False, 'contains(plaza)': False, 'contains(cultura)': False, 'contains(soler)': False, 'contains(info)': False, 'contains(digital)': False, 'contains(lavador)': False, 'contains(ruido)': False, 'contains(licuadora)': False, 'contains(descerebrado)': False, 'contains(primar)': False, 'contains(nella)': False, 'contains(zepol)': False, 'contains(influenciar)': False, 'contains(pichazo)': False, 'contains(cine)': False, 'contains(clásico)': False, 'contains(básico)': False, 'contains(the)': False, 'contains(purge)': False, 'contains(elección)': False, 'contains(santi)': False, 'contains(rego)': False, 'contains(michel)': False, 'contains(parecia)': False, 'contains(ceniciento)': False, 'contains(pisar)': False, 'contains(criterio)': False, 'contains(favor)': False, 'contains(importante)': False, 'contains(alma)': False, 'contains(cualquiera)': False, 'contains(chita)': False, 'contains(medir)': False, 'contains(meter)': False, 'contains(cuerpo)': False, 'contains(new)': False, 'contains(balance)': False, 'contains(patrocinador)': False, 'contains(sele)': False, 'contains(camiseta)': False, 'contains(laboral)': False, 'contains(éxito)': False, 'contains(gallina)': False, 'contains(quedese)': False, 'contains(calladito)': False, 'contains(tomese)': False, 'contains(pastillitas)': False, 'contains(echándole)': False, 'contains(centrar)': False, 'contains(elemento)': False, 'contains(agregar)': False, 'contains(profe)': False, 'contains(comunicación)': False, 'contains(parecer)': False, 'contains(profesor)': False, 'contains(umbridge)': False, 'contains(fondo)': False, 'contains(malvado)': False, 'contains(quedarnos)': False, 'contains(naah)': False, 'contains(completar)': False, 'contains(merecedor)': False, 'contains(viernes)': False, 'contains(derecho)': False, 'contains(cantar)': False, 'contains(curar)': False, 'contains(ralentización)': False, 'contains(divertir)': False, 'contains(frenillo)': False, 'contains(apartar)': False, 'contains(vuelta)': False, 'contains(curioso)': False, 'contains(injusticia)': False, 'contains(arruinar)': False, 'contains(dañar)': False, 'contains(chiky)': False, 'contains(evento)': False, 'contains(échame)': False, 'contains(debut)': False, 'contains(percusión)': False, 'contains(león)': False, 'contains(chino)': False, 'contains(samulnorian)': False, 'contains(frustrar)': False, 'contains(traer)': False, 'contains(samulnori)': False, 'contains(tenes)': False, 'contains(canción)': False, 'contains(btw)': False, 'contains(operar)': False, 'contains(leer)': False, 'contains(alentador)': False, 'contains(campo)': False, 'contains(júralo)': False, 'contains(reconsiderar)': False, 'contains(insomnio)': False, 'contains(caca)': False, 'contains(comemierda)': False, 'contains(democrático)': False, 'contains(emoción)': False, 'contains(disco)': False, 'contains(digerir)': False, 'contains(discografía)': False, 'contains(duro)': False, 'contains(dedicarme)': False, 'contains(groomer)': False, 'contains(pasear)': False, 'contains(perro)': False, 'contains(1)': False, 'contains(stranger)': False, 'contains(things)': False, 'contains(además)': False, 'contains(episodio)': False, 'contains(i)': False, 'contains(told)': False, 'contains(you)': False, 'contains(batería)': False, 'contains(ridículo)': False, 'contains(minuto)': False, 'contains(arreglar)': False, 'contains(respuesta)': False, 'contains(correcto)': False, 'contains(encerrar)': False, 'contains(musicar)': False, 'contains(full)': False, 'contains(limón)': False, 'contains(echar)': False, 'contains(chile)': False, 'contains(\\ufeff1)': False, 'contains(plan)': False, 'contains(disfraz)': False, 'contains(windows)': False, 'contains(navegador)': False, 'contains(aplicación)': False, 'contains(lento)': False, 'contains(torpe)': False, 'contains(ineficiente)': False, 'contains(pavor)': False, 'contains(suspirar)': False, 'contains(picadillo)': False, 'contains(chayote)': False, 'contains(moler)': False, 'contains(maiz)': False, 'contains(dulce)': False, 'contains(arroz)': False, 'contains(fríjol)': False, 'contains(bistec)': False, 'contains(sencillo)': False, 'contains(contarte)': False, 'contains(network)': False, 'contains(futuro)': False, 'contains(hare)': False, 'contains(directo)': False, 'contains(ahi)': False, 'contains(habran)': False, 'contains(tia)': False, 'contains(peder)': False, 'contains(primo)': False, 'contains(favs)': False, 'contains(fuertemente)': False, 'contains(cama)': False, 'contains(tarjeta)': False, 'contains(distraida)': False, 'contains(jurar)': False, 'contains(borroso)': False, 'contains(bañar)': False, 'contains(club)': False, 'contains(naomi)': False, 'contains(presentar)': False, 'contains(inútil)': False, 'contains(tarea)': False, 'contains(minutar)': False, 'contains(silenciar)': False, 'contains(mall)': False, 'contains(huevar)': False, 'contains(arom)': False, 'contains(arriesgarse)': False, 'contains(defecto)': False, 'contains(iniciativo)': False, 'contains(redar)': False, 'contains(haz)': False, 'contains(boto)': False, 'contains(enamorar)': False, 'contains(suegro)': False, 'contains(señor)': False, 'contains(cocinar)': False, 'contains(panza)': False, 'contains(lleno)': False, 'contains(haber)': False, 'contains(millennial)': False, 'contains(memorial)': False, 'contains(contraseña)': False, 'contains(nombrar)': False, 'contains(gatito)': False, 'contains(boabdil)': False, 'contains(hermanar)': False, 'contains(menor)': False, 'contains(adolescencia)': False, 'contains(insoportable)': False, 'contains(invitar)': False, 'contains(negar)': False, 'contains(misericordia)': False, 'contains(proteger)': False, 'contains(estomagar)': False, 'contains(mozarella)': False, 'contains(stick)': False, 'contains(hueco)': False, 'contains(operación)': False, 'contains(puré)': False, 'contains(gerber)': False, 'contains(ignorar)': False, 'contains(costumbre)': False, 'contains(estudiante)': False, 'contains(universitario)': False, 'contains(lamentarme)': False, 'contains(brete)': False, 'contains(pm)': False, 'contains(prender)': False, 'contains(fuego)': False, 'contains(fila)': False, 'contains(conocerte)': False, 'contains(carlos)': False, 'contains(ex)': False, 'contains(chulo)': False, 'contains(divino)': False, 'contains(crush)': False, 'contains(mojar)': False, 'contains(palco)': False, 'contains(privar)': False, 'contains(libertar)': False, 'contains(graduar)': False, 'contains(stargazer)': False, 'contains(esperanzar)': False, 'contains(gordo)': False, 'contains(clinton)': False, 'contains(votar)': False, 'contains(popular)': False, 'contains(trump)': False, 'contains(colegiar)': False, 'contains(electorado)': False, 'contains(adivinar)': False, 'contains(presidente)': False, 'contains(delay)': False, 'contains(app)': False, 'contains(arrancar)': False, 'contains(quiereabrimos)': False, 'contains(elegir)': False, 'contains(asumir)': False, 'contains(pizza)': False, 'contains(acción)': False, 'contains(cometer)': False, 'contains(delito)': False, 'contains(concursar)': False, 'contains(ideal)': False, 'contains(material)': False, 'contains(vaciar)': False, 'contains(whisky)': False, 'contains(habano)': False, 'contains(complicar)': False, 'contains(bill)': False, 'contains(viejito)': False, 'contains(escena)': False, 'contains(documental)': False, 'contains(naturaleza)': False, 'contains(planet)': False, 'contains(earth)': False, 'contains(bbc)': False, 'contains(montar)': False, 'contains(diaa)': False, 'contains(plata)': False, 'contains(alcanzar)': False, 'contains(ropa)': False, 'contains(navidad)': False, 'contains(enseñar)': False, 'contains(bola)': False, 'contains(facebook)': False, 'contains(político)': False, 'contains(desnudo)': False, 'contains(estricto)': False, 'contains(quitarlas)': False, 'contains(mostrar)': False, 'contains(emojis)': False, 'contains(ios102)': False, 'contains(aguacate)': False, 'contains(snapchat)': False, 'contains(decirme)': False, 'contains(sentirse)': False, 'contains(estornudar)': False, 'contains(morder)': False, 'contains(lengua)': False, 'contains(mamar)': False, 'contains(nivel)': False, 'contains(pizzeria)': False, 'contains(llover)': False, 'contains(sombrilla)': False, 'contains(estupidez)': False, 'contains(jueguito)': False, 'contains(septum)': False, 'contains(caber)': False, 'contains(pieza)': False, 'contains(virtual)': False, 'contains(novio)': False, 'contains(vrs)': False, 'contains(sabino)': False, 'contains(finalmente)': False, 'contains(háganlo)': False, 'contains(pase)': False, 'contains(cejar)': False, 'contains(ocurrir)': False, 'contains(genial)': False, 'contains(arrancarme)': False, 'contains(pestaña)': False, 'contains(párpado)': False, 'contains(juanes)': False, 'contains(julieta)': False, 'contains(fox)': False, 'contains(periódico)': False, 'contains(deportivo)': False, 'contains(crc)': False, 'contains(culpar)': False, 'contains(mover)': False, 'contains(librecomo)': False, 'contains(librar)': False, 'contains(imposible)': False, 'contains(irse)': False, 'contains(europa)': False, 'contains(top)': False, 'contains(dez)': False, 'contains(bryant)': False, 'contains(brown)': False, 'contains(obj)': False, 'contains(zek)': False, 'contains(obviar)': False, 'contains(verte)': False, 'contains(organizar)': False, 'contains(irma)': False, 'contains(buscarte)': False, 'contains(venia)': False, 'contains(similar)': False, 'contains(imparable)': False, 'contains(resentir)': False, 'contains(ingrato)': False, 'contains(sufrir)': False, 'contains(altura)': False, 'contains(pelear)': False, 'contains(exacto)': False, 'contains(declaración)': False, 'contains(villancico)': False, 'contains(callese)': False, 'contains(bastante)': False, 'contains(indirecto)': False, 'contains(chisme)': False, 'contains(materia)': False, 'contains(teórico)': False, 'contains(mami)': False, 'contains(bajar)': False, 'contains(velocidad)': False, 'contains(desvelar)': False, 'contains(emocionar)': False, 'contains(lágrima)': False, 'contains(tenor)': False, 'contains(concierto)': False, 'contains(ahsroanoke)': False, 'contains(corto)': False, 'contains(ansioso)': False, 'contains(7)': False, 'contains(ge)': False, 'contains(pulsera)': False, 'contains(talvez)': False, 'contains(yt)': False, 'contains(asunto)': False, 'contains(resaltar)': False, 'contains(moda)': False, 'contains(superficial)': False, 'contains(crítico)': False, 'contains(lelo)': False, 'contains(gris)': False, 'contains(ab)': False, 'contains(dairy)': False, 'contains(queen)': False, 'contains(arte)': False, 'contains(describir)': False, 'contains(bendición)': False, 'contains(conmigo)': False, 'contains(interrumpir)': False, 'contains(excedente)': False, 'contains(asociación)': False, 'contains(solidario)': False, 'contains(estan)': False, 'contains(depositar)': False, 'contains(tarifar)': False, 'contains(alto)': False, 'contains(escupir)': False, 'contains(oh)': False, 'contains(play)': False, 'contains(music)': False, 'contains(apple)': False, 'contains(cinnamonrolls)': False, 'contains(sabor)': False, 'contains(prosanafoods)': False, 'contains(estacióngourmet)': False, 'contains(gc)': False, 'contains(chivi)': False, 'contains(tocándose)': False, 'contains(cabellar)': False, 'contains(entretener)': False, 'contains(ruta)': False, 'contains(desafiante)': False, 'contains(campeón)': False, 'contains(sándwich)': False, 'contains(queso)': False, 'contains(leche)': False, 'contains(condensar)': False, 'contains(tostar)': False, 'contains(face)': False, 'contains(oscar)': False, 'contains(void07)': False, 'contains(calmo)': False, 'contains(poblar)': False, 'contains(fucking)': False, 'contains(anterior)': False, 'contains(comprarlo)': False, 'contains(tho)': False, 'contains(disponible)': False, 'contains(rumbo)': False, 'contains(contento)': False, 'contains(recibir)': False, 'contains(restaurante)': False, 'contains(fuerte)': False, 'contains(olor)': False, 'contains(ladilla)': False, 'contains(chevere)': False, 'contains(actividad)': False, 'contains(interés)': False, 'contains(4)': False, 'contains(jamás)': False, 'contains(méxico)': False, 'contains(feriar)': False, 'contains(gastronómico)': False, 'contains(lluviaencasa)': False, 'contains(festival)': False, 'contains(pz)': False, 'contains(modelar)': False, 'contains(d)': False, 'contains(paco)': False, 'contains(muñequito)': False, 'contains(siesta)': False, 'contains(rubio)': False, 'contains(impotencia)': False, 'contains(entender)': False, 'contains(significar)': False, 'contains(resignación)': False, 'contains(barato)': False, 'contains(oficial)': False, 'contains(sii)': False, 'contains(dolar)': False, 'contains(ps4)': False, 'contains(entornar)': False, 'contains(favorable)': False, 'contains(donación)': False, 'contains(aplastar)': False, 'contains(árbol)': False, 'contains(navid)': False, 'contains(roller)': False, 'contains(doritos)': False, 'contains(pan)': False, 'contains(lluvia)': False, 'contains(definitivo)': False, 'contains(piedad)': False, 'contains(estudio)': False, 'contains(asco)': False, 'contains(spotify)': False, 'contains(compu)': False, 'contains(ojalá)': False, 'contains(sorpresa)': False, 'contains(largar)': False, 'contains(milord)': False, 'contains(regresar)': False, 'contains(averno)': False, 'contains(litro)': False, 'contains(inactivar)': False, 'contains(normalidad)': False, 'contains(darle)': False, 'contains(comprensión)': False, 'contains(ternura)': False, 'contains(olímpico)': False, 'contains(arca)': False, 'contains(necesario)': False, 'contains(funcionar)': False, 'contains(martinica)': False, 'contains(sumo)': False, 'contains(preferir)': False, 'contains(discutir)': False, 'contains(umpalumpa)': False, 'contains(cristianar)': False, 'contains(conservador)': False, 'contains(chao)': False, 'contains(ud)': False, 'contains(identificar)': False, 'contains(tweet)': False, 'contains(avezar)': False, 'contains(rt)': False, 'contains(fe)': False, 'contains(ticos)': False, 'contains(esperándolo)': False, 'contains(aquel)': False, 'contains(numerito)': False, 'contains(ginebra)': False, 'contains(dolor)': False, 'contains(cel)': False, 'contains(irremplazable)': False, 'contains(cunar)': False, 'contains(apúrense)': False, 'contains(suficiente)': False, 'contains(presupuestar)': False, 'contains(animalito)': False, 'contains(afectar)': False, 'contains(pais)': False, 'contains(enterar)': False, 'contains(carrera)': False, 'contains(investigador)': False, 'contains(animación)': False, 'contains(japonés)': False, 'contains(desperdiciar)': False, 'contains(gol)': False, 'contains(enviar)': False, 'contains(ignacio)': False, 'contains(yeye)': False, 'contains(pintar)': False, 'contains(masculino)': False, 'contains(adulto)': False, 'contains(obsesivo)': False, 'contains(my)': False, 'contains(little)': False, 'contains(pony)': False, 'contains(darte)': False, 'contains(acompañarte)': False, 'contains(carlsenkarjakin)': False, 'contains(vivo)': False, 'contains(equivocar)': False, 'contains(aparentemente)': False, 'contains(diseñador)': False, 'contains(snob)': False, 'contains(feed)': False, 'contains(verlo)': False, 'contains(tigo)': False, 'contains(cbs)': False, 'contains(temblor)': False, 'contains(baldar)': False, 'contains(pollo)': False, 'contains(cebolla)': False, 'contains(frita)': False, 'contains(lléveme)': False, 'contains(mispropositospara2017son)': False, 'contains(enfermería)': False, 'contains(gareth)': False, 'contains(balar)': False, 'contains(abrazo)': False, 'contains(vibo)': False, 'contains(mismísima)': False, 'contains(grabar)': False, 'contains(entrevistar)': False, 'contains(harto)': False, 'contains(resolver)': False, 'contains(integral)': False, 'contains(área)': False, 'contains(secretar)': False, 'contains(capítulo)': False, 'contains(black)': False, 'contains(mirror)': False, 'contains(pinchar)': False, 'contains(wey)': False, 'contains(funcionario)': False, 'contains(público)': False, 'contains(pensar)': False, 'contains(pariss)': False, 'contains(ojalar)': False, 'contains(netflix)': False, 'contains(canal)': False, 'contains(repichudo)': False, 'contains(carepichas)': False, 'contains(verdadero)': False, 'contains(jonathan)': False, 'contains(duarte)': False, 'contains(pasandola)': False, 'contains(operacion)': False, 'contains(uff)': False, 'contains(discusión)': False, 'contains(enorme)': False, 'contains(clínico)': False, 'contains(mayar)': False, 'contains(hacerlas)': False, 'contains(calentura)': False, 'contains(bar)': False, 'contains(timidez)': False, 'contains(mediodía)': False, 'contains(carajo)': False, 'contains(davi)': False, 'contains(david)': False, 'contains(quebrar)': False, 'contains(vaso)': False, 'contains(rivera)': False, 'contains(telefono)': False, 'contains(revisar)': False, 'contains(ig)': False, 'contains(descubrir)': False, 'contains(picar)': False, 'contains(patán)': False, 'contains(stalker)': False, 'contains(instinto)': False, 'contains(asesinar)': False, 'contains(activo)': False, 'contains(tradición)': False, 'contains(cajeta)': False, 'contains(almendra)': False, 'contains(verano)': False, 'contains(vario)': False, 'contains(competir)': False, 'contains(blanco)': False, 'contains(secreto)': False, 'contains(pilluelo)': False, 'contains(mangar)': False, 'contains(actualizar)': False, 'contains(ons)': False, 'contains(jueves)': False, 'contains(corregir)': False, 'contains(tráigame)': False, 'contains(tierra)': False, 'contains(llévame)': False, 'contains(infierno)': False, 'contains(vii)': False, 'contains(olla)': False, 'contains(carne)': False, 'contains(sopar)': False, 'contains(detener)': False, 'contains(desesperar)': False, 'contains(bailar)': False, 'contains(raro)': False, 'contains(chateando)': False, 'contains(pistar)': False, 'contains(solis)': False, 'contains(luchar)': False, 'contains(rosado)': False, 'contains(crepas)': False, 'contains(beber)': False, 'contains(smoothie)': False, 'contains(esparcir)': False, 'contains(twd)': False, 'contains(fav)': False, 'contains(pene)': False, 'contains(tendre)': False, 'contains(consciencia)': False, 'contains(limpio)': False, 'contains(comodidad)': False, 'contains(reglar)': False, 'contains(segundo)': False, 'contains(diay)': False, 'contains(comentario)': False, 'contains(men)': False, 'contains(unico)': False, 'contains(divertirnos)': False, 'contains(viendote)': False, 'contains(estresada)': False, 'contains(cabra)': False, 'contains(loco)': False, 'contains(intención)': False, 'contains(moviéndose)': False, 'contains(armamentista)': False, 'contains(in)': False, 'contains(making)': False, 'contains(opción)': False, 'contains(plato)': False, 'contains(reconfortante)': False, 'contains(noticiar)': False, 'contains(agobiante)': False, 'contains(decepción)': False, 'contains(humanidad)': False, 'contains(flotar)': False, 'contains(work)': False, 'contains(lindaperopobra)': False, 'contains(pipi)': False, 'contains(conferenciar)': False, 'contains(prensar)': False, 'contains(niño)': False, 'contains(temblar)': False, 'contains(jalar)': False, 'contains(traidor)': False, 'contains(coronar)': False, 'contains(españolar)': False, 'contains(restar)': False, 'contains(probar)': False, 'contains(siberiano)': False, 'contains(crown)': False, 'contains(mesar)': False, 'contains(abajar)': False, 'contains(tlc)': False, 'contains(muerte)': False, 'contains(jejeje)': False, 'contains(desorden)': False, 'contains(pato)': False, 'contains(exito)': False, 'contains(chingar)': False, 'contains(almorzar)': False, 'contains(muchacho)': False, 'contains(nieto)': False, 'contains(galletitas)': False, 'contains(desnaturalizar)': False, 'contains(bienestaranimal)': False, 'contains(texto)': False, 'contains(non)': False, 'contains(nov)': False, 'contains(cursar)': False, 'contains(confundir)': False, 'contains(tele)': False, 'contains(cancun)': False, 'contains(unica)': False, 'contains(maps)': False, 'contains(street)': False, 'contains(view)': False, 'contains(reportarlo)': False, 'contains(dueño)': False, 'contains(whatgoesaroundcomesaround)': False, 'contains(probarlo)': False, 'contains(decepcionar)': False, 'contains(sirope)': False, 'contains(2e1)': False, 'contains(tampoco)': False, 'contains(hut)': False, 'contains(lon)': False, 'contains(juan)': False, 'contains(catar)': False, 'contains(condenar)': False, 'contains(atacar)': False, 'contains(bajo)': False, 'contains(intensidad)': False, 'contains(encimar)': False, 'contains(razón)': False, 'contains(salirme)': False, 'contains(termal)': False, 'contains(monteverde)': False, 'contains(tal)': False, 'contains(devolverlas)': False, 'contains(valer)': False, 'contains(repelente)': False, 'contains(usual)': False, 'contains(fallar)': False, 'contains(turrialba)': False, 'contains(1000)': False, 'contains(asma)': False, 'contains(desastroso)': False, 'contains(aparentar)': False, 'contains(campaña)': False, 'contains(hope)': False, 'contains(all)': False, 'contains(we)': False, 'contains(have)': False, 'contains(left)': False, 'contains(elanna)': False, 'contains(captar)': False, 'contains(vacilar)': False, 'contains(avatar)': False, 'contains(ganador)': False, 'contains(mensaje)': False, 'contains(psc)': False, 'contains(posar)': False, 'contains(izquierdo)': False, 'contains(unir)': False, 'contains(distanciar)': False, 'contains(alinear)': False, 'contains(piénselo)': False, 'contains(esforzar)': False, 'contains(accidentar)': False, 'contains(varios)': False, 'contains(trauma)': False, 'contains(generar)': False, 'contains(taani)': False, 'contains(podar)': False, 'contains(díganle)': False, 'contains(hellen)': False, 'contains(servidor)': False, 'contains(site)': False, 'contains(garcia)': False, 'contains(hacerlo)': False, 'contains(charita)': False, 'contains(sección)': False, 'contains(tuanis)': False, 'contains(gentequenocoge)': False, 'contains(preocupar)': False, 'contains(formidable)': False, 'contains(involucrar)': False, 'contains(correar)': False, 'contains(ofensa)': False, 'contains(animalitos)': False, 'contains(aw)': False, 'contains(tae)': False, 'contains(abrazarte)': False, 'contains(pésame)': False, 'contains(lamentable)': False, 'contains(sensible)': False, 'contains(enfocar)': False, 'contains(lagartija)': False, 'contains(perrito)': False, 'contains(llamándolo)': False, 'contains(diario)': False, 'contains(versar)': False, 'contains(forzar)': False, 'contains(proceso)': False, 'contains(montero)': False, 'contains(tenés)': False, 'contains(asistir)': False, 'contains(eurodescendiente)': False, 'contains(heterosexual)': False, 'contains(católico)': False, 'contains(cc)': False, 'contains(locura)': False, 'contains(opinar)': False, 'contains(reservar)': False, 'contains(complacer)': False, 'contains(paraolvidarte)': False, 'contains(faa)': False, 'contains(liberia)': False, 'contains(tamal)': False, 'contains(pierna)': False, 'contains(fresquito)': False, 'contains(quique)': False, 'contains(sonar)': False, 'contains(sentar)': False, 'contains(malparir)': False, 'contains(malnacido)': False, 'contains(carta)': False, 'contains(lillie)': False, 'contains(artículo)': False, 'contains(sereno)': False, 'contains(bcr)': False, 'contains(anoche)': False, 'contains(cocar)': False, 'contains(irme)': False, 'contains(rayar)': False, 'contains(xenia)': False, 'contains(comilón)': False, 'contains(bnopenhouse)': False, 'contains(gripe)': False, 'contains(nomás)': False, 'contains(cuál)': False, 'contains(tercero)': False, 'contains(tres)': False, 'contains(tacón)': False, 'contains(bolsa)': False, 'contains(literalmente)': False, 'contains(2hrs35min)': False, 'contains(segundar)': False, 'contains(fuller)': False, 'contains(house)': False, 'contains(minis)': False, 'contains(boys)': False, 'contains(auditorio)': False, 'contains(marzo)': False, 'contains(quejar)': False, 'contains(interacción)': False, 'contains(cólera)': False, 'contains(avila)': False, 'contains(hmm)': False, 'contains(cielo)': False, 'contains(boca)': False, 'contains(manejar)': False, 'contains(migraña)': False, 'contains(hogar)': False, 'contains(peludo)': False, 'contains(porqué)': False, 'contains(contratar)': False, 'contains(ví)': False, 'contains(solito)': False, 'contains(absolutamente)': False, 'contains(mentalizar)': False, 'contains(percebe)': False, 'contains(ysi)': False, 'contains(evitarlo)': False, 'contains(vibrar)': False, 'contains(transmitir)': False, 'contains(sitiar)': False, 'contains(abarcar)': False, 'contains(herramienta)': False, 'contains(haití)': False, 'contains(adorable)': False, 'contains(muchísimas)': False, 'contains(desordenar)': False, 'contains(cabeza)': False, 'contains(permanente)': False, 'contains(hombro)': False, 'contains(superfluo)': False, 'contains(vs)': False, 'contains(puravida)': False, 'contains(costarica)': False, 'contains(…)': False, 'contains(dj)': False, 'contains(periodismo)': False, 'contains(ámbito)': False, 'contains(admirar)': False, 'contains(conocerlos)': False, 'contains(fdjpuravida)': False, 'contains(hermanita)': False, 'contains(kinder)': False, 'contains(basar)': False, 'contains(morata)': False, 'contains(kronos)': False, 'contains(casero)': False, 'contains(mientras)': False, 'contains(mayoría)': False, 'contains(1146)': False, 'contains(panadería)': False, 'contains(saliamos)': False, 'contains(batir)': False, 'contains(maracuyá)': False, 'contains(badilla)': False, 'contains(dev)': False, 'contains(bby)': False, 'contains(víctima)': False, 'contains(dramático)': False, 'contains(recital)': False, 'contains(pescadito)': False, 'contains(inundación)': False, 'contains(marear)': False, 'contains(vomitar)': False, 'contains(colera)': False, 'contains(colar)': False, 'contains(gabriel)': False, 'contains(corazon)': False, 'contains(pásame)': False, 'contains(mcdonalds)': False, 'contains(mannequin)': False, 'contains(challenge)': False, 'contains(gobernar)': False, 'contains(negociar)': False, 'contains(depresión)': False, 'contains(tropical)': False, 'contains(convertir)': False, 'contains(huracán)': False, 'contains(otto)': False, 'contains(memefest)': False, 'contains(encargar)': False, 'contains(tren)': False, 'contains(mito)': False, 'contains(urbano)': False, 'contains(informar)': False, 'contains(ripgladiador)': False, 'contains(sole)': False, 'contains(sismógrafo)': False, 'contains(humanar)': False, 'contains(envíame)': False, 'contains(dirección)': False, 'contains(aguacero)': False, 'contains(viento)': False, 'contains(control)': False, 'contains(nosdejaron)': False, 'contains(irnos)': False, 'contains(atento)': False, 'contains(alejandro)': False, 'contains(zona)': False, 'contains(rojo)': False, 'contains(cuatro)': False, 'contains(nórdico)': False, 'contains(argentar)': False}, 'NONE')\n"
     ]
    },
    {
     "name": "stdout",
     "output_type": "stream",
     "text": [
      "0.53\n"
     ]
    }
   ],
   "source": [
    "all_words = nltk.FreqDist([word for tweet in df.content for word in nltk.word_tokenize(tweet)])\n",
    "word_features = list(all_words)[:2000] # [_document-classify-all-words]\n",
    "\n",
    "def document_features(document): # [_document-classify-extractor]\n",
    "    document_words = set(nltk.word_tokenize(document)) # [_document-classify-set]\n",
    "    features = {}\n",
    "    for word in word_features:\n",
    "        features['contains({})'.format(word)] = (word in document_words)\n",
    "    return features\n",
    "\n",
    "featuresets = [(document_features(d), c) for (d,c) in zip(df.content, df.polarity)]\n",
    "print(featuresets[0])\n",
    "train_set, test_set = featuresets[100:], featuresets[:100]\n",
    "classifier = nltk.NaiveBayesClassifier.train(train_set)\n",
    "print(nltk.classify.accuracy(classifier, test_set))"
   ]
  },
  {
   "cell_type": "code",
   "execution_count": null,
   "metadata": {},
   "outputs": [],
   "source": []
  }
 ],
 "metadata": {
  "kernelspec": {
   "display_name": "tass_2019",
   "language": "python",
   "name": "tass_2019"
  },
  "language_info": {
   "codemirror_mode": {
    "name": "ipython",
    "version": 3
   },
   "file_extension": ".py",
   "mimetype": "text/x-python",
   "name": "python",
   "nbconvert_exporter": "python",
   "pygments_lexer": "ipython3",
   "version": "3.7.3"
  },
  "toc": {
   "base_numbering": 1,
   "nav_menu": {},
   "number_sections": true,
   "sideBar": true,
   "skip_h1_title": false,
   "title_cell": "Table of Contents",
   "title_sidebar": "Contents",
   "toc_cell": false,
   "toc_position": {},
   "toc_section_display": true,
   "toc_window_display": false
  }
 },
 "nbformat": 4,
 "nbformat_minor": 2
}
